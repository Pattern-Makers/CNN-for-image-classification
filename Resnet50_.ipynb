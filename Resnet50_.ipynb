{
  "nbformat": 4,
  "nbformat_minor": 0,
  "metadata": {
    "colab": {
      "provenance": [],
      "gpuType": "T4"
    },
    "kernelspec": {
      "name": "python3",
      "display_name": "Python 3"
    },
    "language_info": {
      "name": "python"
    },
    "accelerator": "GPU"
  },
  "cells": [
    {
      "cell_type": "markdown",
      "source": [
        "## 12. Loading the pretrained model - ResNet50"
      ],
      "metadata": {
        "id": "9H-loTUttdmf"
      }
    },
    {
      "cell_type": "markdown",
      "source": [
        "### Modifying the network according to the number of classes and freezing the inner layers for transfer learning"
      ],
      "metadata": {
        "id": "fgaiP-qtuY7B"
      }
    },
    {
      "cell_type": "code",
      "source": [
        "# Initialize the model\n",
        "# Define the modified ResNet50 model\n",
        "class ModifiedResNet(nn.Module):\n",
        "    def __init__(self, num_classes=5):\n",
        "        super(ModifiedResNet, self).__init__()\n",
        "        self.resnet = models.resnet50(pretrained=True)\n",
        "        self.resnet.fc = nn.Linear(self.resnet.fc.in_features, num_classes)  # Modify for custom classes\n",
        "\n",
        "    def forward(self, x):\n",
        "        return self.resnet(x)\n",
        "\n",
        "\n",
        "# Freeze all layers except layer4 and fc\n",
        "for param in model.parameters():\n",
        "    param.requires_grad = False\n",
        "for param in model.resnet.layer4.parameters():\n",
        "    param.requires_grad = True\n",
        "for param in model.resnet.fc.parameters():\n",
        "    param.requires_grad = True\n",
        "\n",
        "model = ModifiedResNet(num_classes=5).to(device)\n",
        "\n"
      ],
      "metadata": {
        "id": "XwOS70cXttC6"
      },
      "execution_count": null,
      "outputs": []
    },
    {
      "cell_type": "markdown",
      "source": [
        "## 13. Transforming the dataset and splitting into training, testing and validation"
      ],
      "metadata": {
        "id": "y_YuGKxDt9QO"
      }
    },
    {
      "cell_type": "code",
      "source": [
        "from torchvision import datasets, transforms, models\n",
        "import torch\n",
        "import torch.nn as nn\n",
        "from torch.utils.data import random_split, DataLoader\n",
        "\n",
        "# Define transformations\n",
        "transform = transforms.Compose([\n",
        "    transforms.Resize((224, 224)),\n",
        "    transforms.ToTensor(),\n",
        "    transforms.Normalize(mean=[0.485, 0.456, 0.406], std=[0.229, 0.224, 0.225])\n",
        "])\n",
        "\n",
        "# Create dataset\n",
        "DATA_DIR = '/content/data'\n",
        "dataset = datasets.ImageFolder(root=DATA_DIR, transform=transform)\n",
        "\n",
        "# Train-validation-test split\n",
        "total_size = len(dataset)\n",
        "train_size = int(0.6 * total_size)\n",
        "val_size = int(0.2 * total_size)\n",
        "test_size = total_size - train_size - val_size\n",
        "train_dataset, val_dataset, test_dataset = random_split(dataset, [train_size, val_size, test_size])\n",
        "\n",
        "# DataLoaders\n",
        "batch_size = 32\n",
        "train_loader = DataLoader(train_dataset, batch_size=batch_size, shuffle=True)\n",
        "val_loader = DataLoader(val_dataset, batch_size=batch_size, shuffle=False)\n",
        "test_loader = DataLoader(test_dataset, batch_size=batch_size, shuffle=False)\n",
        "\n",
        "# Device setup\n",
        "device = \"cuda\" if torch.cuda.is_available() else \"cpu\""
      ],
      "metadata": {
        "id": "NLXR_kHQUIhW"
      },
      "execution_count": 1,
      "outputs": []
    },
    {
      "cell_type": "markdown",
      "source": [
        "## 14. Training the model"
      ],
      "metadata": {
        "id": "F6gOfNK5uoQA"
      }
    },
    {
      "cell_type": "code",
      "source": [
        "\n",
        "# Loss and optimizer\n",
        "loss_fn = nn.CrossEntropyLoss()\n",
        "optimizer = torch.optim.Adam(\n",
        "    list(model.resnet.layer4.parameters()) + list(model.resnet.fc.parameters()), lr=0.001\n",
        ")\n",
        "\n",
        "# Training loop with loss recording\n",
        "num_epochs = 20\n",
        "\n",
        "# Lists to store training and validation loss over epochs\n",
        "train_losses = []\n",
        "val_losses = []\n",
        "\n",
        "#Training\n",
        "for epoch in range(num_epochs):\n",
        "    model.train()\n",
        "    running_loss = 0.0\n",
        "    train_correct = 0\n",
        "    train_total = 0\n",
        "    for inputs, labels in train_loader:\n",
        "        inputs, labels = inputs.to(device), labels.to(device)\n",
        "        optimizer.zero_grad()\n",
        "        outputs = model(inputs)\n",
        "        loss = loss_fn(outputs, labels)\n",
        "        loss.backward()\n",
        "        optimizer.step()\n",
        "        running_loss += loss.item()\n",
        "        _, predicted = torch.max(outputs, 1)\n",
        "        train_total += labels.size(0)\n",
        "        train_correct += (predicted == labels).sum().item()\n",
        "\n",
        "    train_accuracy = train_correct / train_total\n",
        "    train_losses.append(running_loss / len(train_loader))\n",
        "\n",
        "    # validation\n",
        "    model.eval()\n",
        "    val_loss = 0.0\n",
        "    val_correct = 0\n",
        "    val_total = 0\n",
        "    with torch.no_grad():\n",
        "        for val_inputs, val_labels in val_loader:\n",
        "            val_inputs, val_labels = val_inputs.to(device), val_labels.to(device)\n",
        "            val_outputs = model(val_inputs)\n",
        "            v_loss = loss_fn(val_outputs, val_labels)\n",
        "            val_loss += v_loss.item()\n",
        "            _, predicted = torch.max(val_outputs, 1)\n",
        "            val_total += val_labels.size(0)\n",
        "            val_correct += (predicted == val_labels).sum().item()\n",
        "\n",
        "    val_accuracy = val_correct / val_total\n",
        "    val_losses.append(val_loss / len(val_loader))\n",
        "\n",
        "    # Print progress for each epoch\n",
        "    print(\n",
        "        f\"Epoch {epoch + 1}/{num_epochs}, \"\n",
        "        f\"Train Loss: {train_losses[-1]:.4f}, Train Accuracy: {train_accuracy:.4f}, \"\n",
        "        f\"Val Loss: {val_losses[-1]:.4f}, Val Accuracy: {val_accuracy:.4f}\"\n",
        "    )\n",
        "\n",
        "# Testing loop\n",
        "model.eval()\n",
        "correct = 0\n",
        "total = 0\n",
        "with torch.no_grad():\n",
        "    for inputs, labels in test_loader:\n",
        "        inputs, labels = inputs.to(device), labels.to(device)\n",
        "        outputs = model(inputs)\n",
        "        _, predicted = torch.max(outputs, 1)\n",
        "        total += labels.size(0)\n",
        "        correct += (predicted == labels).sum().item()\n",
        "\n",
        "test_accuracy = correct / total\n",
        "print(f\"Test Accuracy: {test_accuracy:.4f}\")\n"
      ],
      "metadata": {
        "colab": {
          "base_uri": "https://localhost:8080/"
        },
        "id": "7kAxORU10ust",
        "outputId": "747c6c0a-e2bc-4ae9-c326-a88991e6e561"
      },
      "execution_count": 3,
      "outputs": [
        {
          "output_type": "stream",
          "name": "stdout",
          "text": [
            "Epoch 1/20, Train Loss: 0.7872, Train Accuracy: 0.6884, Val Loss: 0.7222, Val Accuracy: 0.7245\n",
            "Epoch 2/20, Train Loss: 0.5249, Train Accuracy: 0.8025, Val Loss: 0.6092, Val Accuracy: 0.7547\n",
            "Epoch 3/20, Train Loss: 0.3670, Train Accuracy: 0.8610, Val Loss: 0.6622, Val Accuracy: 0.7618\n",
            "Epoch 4/20, Train Loss: 0.2110, Train Accuracy: 0.9268, Val Loss: 0.8940, Val Accuracy: 0.7541\n",
            "Epoch 5/20, Train Loss: 0.1356, Train Accuracy: 0.9523, Val Loss: 0.7574, Val Accuracy: 0.7788\n",
            "Epoch 6/20, Train Loss: 0.1167, Train Accuracy: 0.9583, Val Loss: 0.5931, Val Accuracy: 0.8134\n",
            "Epoch 7/20, Train Loss: 0.0548, Train Accuracy: 0.9817, Val Loss: 0.8041, Val Accuracy: 0.8145\n",
            "Epoch 8/20, Train Loss: 0.0646, Train Accuracy: 0.9771, Val Loss: 0.8466, Val Accuracy: 0.7700\n",
            "Epoch 9/20, Train Loss: 0.0439, Train Accuracy: 0.9848, Val Loss: 0.7397, Val Accuracy: 0.8139\n",
            "Epoch 10/20, Train Loss: 0.0507, Train Accuracy: 0.9828, Val Loss: 0.6599, Val Accuracy: 0.8249\n",
            "Epoch 11/20, Train Loss: 0.0597, Train Accuracy: 0.9793, Val Loss: 0.7615, Val Accuracy: 0.8095\n",
            "Epoch 12/20, Train Loss: 0.0371, Train Accuracy: 0.9879, Val Loss: 0.8585, Val Accuracy: 0.7794\n",
            "Epoch 13/20, Train Loss: 0.0331, Train Accuracy: 0.9890, Val Loss: 0.7072, Val Accuracy: 0.8161\n",
            "Epoch 14/20, Train Loss: 0.0309, Train Accuracy: 0.9894, Val Loss: 0.8633, Val Accuracy: 0.7903\n",
            "Epoch 15/20, Train Loss: 0.0372, Train Accuracy: 0.9885, Val Loss: 1.2327, Val Accuracy: 0.7821\n",
            "Epoch 16/20, Train Loss: 0.0301, Train Accuracy: 0.9910, Val Loss: 0.7897, Val Accuracy: 0.8090\n",
            "Epoch 17/20, Train Loss: 0.0294, Train Accuracy: 0.9899, Val Loss: 0.7431, Val Accuracy: 0.8299\n",
            "Epoch 18/20, Train Loss: 0.0318, Train Accuracy: 0.9892, Val Loss: 0.8185, Val Accuracy: 0.8271\n",
            "Epoch 19/20, Train Loss: 0.0214, Train Accuracy: 0.9929, Val Loss: 0.8689, Val Accuracy: 0.8156\n",
            "Epoch 20/20, Train Loss: 0.0380, Train Accuracy: 0.9887, Val Loss: 0.7208, Val Accuracy: 0.8145\n",
            "Test Accuracy: 0.8196\n"
          ]
        }
      ]
    },
    {
      "cell_type": "markdown",
      "source": [
        "### Plotting the confusion matrix"
      ],
      "metadata": {
        "id": "1uiSQDofuxZU"
      }
    },
    {
      "cell_type": "code",
      "source": [
        "from sklearn.metrics import confusion_matrix, ConfusionMatrixDisplay\n",
        "import matplotlib.pyplot as plt\n",
        "import numpy as np\n",
        "\n",
        "# Initialize variables for predictions and true labels\n",
        "all_preds = []\n",
        "all_labels = []\n",
        "\n",
        "# Testing loop with predictions accumulation\n",
        "model.eval()\n",
        "with torch.no_grad():\n",
        "    for inputs, labels in test_loader:\n",
        "        inputs, labels = inputs.to(device), labels.to(device)\n",
        "        outputs = model(inputs)\n",
        "        _, predicted = torch.max(outputs, 1)\n",
        "        all_preds.extend(predicted.cpu().numpy())  # Append predictions to list\n",
        "        all_labels.extend(labels.cpu().numpy())   # Append true labels to list\n",
        "\n",
        "# Compute confusion matrix\n",
        "cm = confusion_matrix(all_labels, all_preds)\n",
        "print(\"Confusion Matrix:\\n\", cm)\n",
        "\n",
        "# Display confusion matrix as a heatmap\n",
        "disp = ConfusionMatrixDisplay(confusion_matrix=cm, display_labels=dataset.classes)\n",
        "disp.plot(cmap=plt.cm.Blues)\n",
        "plt.title(\"Confusion Matrix\")\n",
        "plt.show()\n"
      ],
      "metadata": {
        "colab": {
          "base_uri": "https://localhost:8080/",
          "height": 576
        },
        "id": "ZcrVxZyK4lK8",
        "outputId": "469f1897-9662-40d1-dc77-49387b88ebe5"
      },
      "execution_count": null,
      "outputs": [
        {
          "output_type": "stream",
          "name": "stdout",
          "text": [
            "Confusion Matrix:\n",
            " [[777  90   4   2   2]\n",
            " [133 336   9   4   0]\n",
            " [ 21  23 126   1   0]\n",
            " [  5   8   0 138   2]\n",
            " [  6   3   5   0 129]]\n"
          ]
        },
        {
          "output_type": "display_data",
          "data": {
            "text/plain": [
              "<Figure size 640x480 with 2 Axes>"
            ],
            "image/png": "[encoded data removed]"
          },
          "metadata": {}
        }
      ]
    },
    {
      "cell_type": "code",
      "source": [],
      "metadata": {
        "id": "N-DDqdbO3ICl"
      },
      "execution_count": null,
      "outputs": []
    }
  ]
}